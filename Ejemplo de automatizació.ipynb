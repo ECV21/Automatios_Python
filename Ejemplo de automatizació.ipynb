{
  "nbformat": 4,
  "nbformat_minor": 0,
  "metadata": {
    "colab": {
      "provenance": [],
      "include_colab_link": true
    },
    "kernelspec": {
      "name": "python3",
      "display_name": "Python 3"
    },
    "language_info": {
      "name": "python"
    }
  },
  "cells": [
    {
      "cell_type": "markdown",
      "metadata": {
        "id": "view-in-github",
        "colab_type": "text"
      },
      "source": [
        "<a href=\"https://colab.research.google.com/github/ECV21/Automatios_Python/blob/main/Untitled4.ipynb\" target=\"_parent\"><img src=\"https://colab.research.google.com/assets/colab-badge.svg\" alt=\"Open In Colab\"/></a>"
      ]
    },
    {
      "cell_type": "code",
      "execution_count": null,
      "metadata": {
        "id": "3Ht_2qqBbPaA"
      },
      "outputs": [],
      "source": [
        "import pandas as pd\n",
        "from io import StringIO"
      ]
    },
    {
      "cell_type": "code",
      "source": [
        "# ----------------------------\n",
        "# 1. Función para limpiar una base\n",
        "# ----------------------------\n",
        "def limpiar_base(df_raw):\n",
        "    print(\"=== Base sucia ===\")\n",
        "    print(df_raw)\n",
        "\n",
        "    # Eliminar duplicados exactos\n",
        "    df_clean = df_raw.drop_duplicates()\n",
        "\n",
        "    # Eliminar filas con nulos en columnas clave y crear copia segura\n",
        "    df_clean = df_clean.dropna(subset=[\"nombre\", \"edad\", \"fecha\"]).copy()\n",
        "\n",
        "    # Convertir tipos\n",
        "    df_clean.loc[:, \"edad\"] = df_clean[\"edad\"].astype(int)\n",
        "    df_clean.loc[:, \"fecha\"] = pd.to_datetime(df_clean[\"fecha\"])\n",
        "\n",
        "    print(\"\\n=== Base limpia ===\")\n",
        "    print(df_clean)\n",
        "\n",
        "    return df_clean"
      ],
      "metadata": {
        "id": "BpAuKvLFf19k"
      },
      "execution_count": null,
      "outputs": []
    },
    {
      "cell_type": "code",
      "source": [
        "# ----------------------------\n",
        "# 2. Función para agregar nueva data al histórico\n",
        "# ----------------------------\n",
        "def agregar_al_historico(historico_df, nuevo_df, clave=\"id\"):\n",
        "    # Concatenar y eliminar duplicados por la clave\n",
        "    df_actualizado = pd.concat([historico_df.copy(), nuevo_df.copy()])\n",
        "    df_actualizado = df_actualizado.drop_duplicates(subset=[clave])\n",
        "\n",
        "    print(\"\\n=== Histórico actualizado ===\")\n",
        "    print(df_actualizado)\n",
        "\n",
        "    return df_actualizado"
      ],
      "metadata": {
        "id": "2FLN3KHMjxNc"
      },
      "execution_count": null,
      "outputs": []
    },
    {
      "cell_type": "code",
      "source": [
        "# ----------------------------\n",
        "# 3. Función para guardar el DataFrame final (opcional)\n",
        "# ----------------------------\n",
        "def guardar_csv(df, nombre_archivo=\"Historico_Actualizado.csv\"):\n",
        "    df.to_csv(nombre_archivo, index=False)\n",
        "    from google.colab import files\n",
        "    files.download(nombre_archivo)"
      ],
      "metadata": {
        "id": "kxUAKEygjy2O"
      },
      "execution_count": null,
      "outputs": []
    },
    {
      "cell_type": "code",
      "source": [
        "# 1. Cargar y limpiar la base sucia\n",
        "df_raw = pd.read_csv(\"Data.csv\")\n",
        "df_historico = limpiar_base(df_raw)"
      ],
      "metadata": {
        "colab": {
          "base_uri": "https://localhost:8080/"
        },
        "id": "cvwfIstVj1EB",
        "outputId": "2f54ba0d-dcf3-4426-c4f5-50b6b188c78e"
      },
      "execution_count": null,
      "outputs": [
        {
          "output_type": "stream",
          "name": "stdout",
          "text": [
            "=== Base sucia ===\n",
            "    id     nombre  edad       fecha\n",
            "0    1        Ana  25.0  2023-06-01\n",
            "1    2       Juan  30.0  2023-06-01\n",
            "2    3      María   NaN  2023-06-01\n",
            "3    4      Pedro  22.0  2023-06-01\n",
            "4    2       Juan  30.0  2023-06-01\n",
            "5    5        NaN  28.0  2023-06-01\n",
            "6    6  Alejandro  27.0  2023-06-01\n",
            "7    7        Ana  25.0  2023-06-01\n",
            "8    8       Luis  31.0         NaN\n",
            "9    9       Luis  31.0  2023-06-01\n",
            "10  10      Marta  28.0  2023-06-01\n",
            "11  11      Sofía  29.0  2023-07-15\n",
            "12  12     Carlos  35.0  2023-08-20\n",
            "13  13      Elena  23.0  2023-09-05\n",
            "14  14    Ricardo  40.0  2023-10-10\n",
            "15  15      Laura  26.0  2023-11-25\n",
            "16  16      Diego  33.0  2023-12-01\n",
            "17  17     Isabel  24.0  2024-01-01\n",
            "18  18   Fernando  38.0  2024-02-14\n",
            "19  19     Carmen  30.0  2024-03-01\n",
            "20  20     Javier  32.0  2024-04-04\n",
            "\n",
            "=== Base limpia ===\n",
            "    id     nombre  edad                fecha\n",
            "0    1        Ana  25.0  2023-06-01 00:00:00\n",
            "1    2       Juan  30.0  2023-06-01 00:00:00\n",
            "3    4      Pedro  22.0  2023-06-01 00:00:00\n",
            "6    6  Alejandro  27.0  2023-06-01 00:00:00\n",
            "7    7        Ana  25.0  2023-06-01 00:00:00\n",
            "9    9       Luis  31.0  2023-06-01 00:00:00\n",
            "10  10      Marta  28.0  2023-06-01 00:00:00\n",
            "11  11      Sofía  29.0  2023-07-15 00:00:00\n",
            "12  12     Carlos  35.0  2023-08-20 00:00:00\n",
            "13  13      Elena  23.0  2023-09-05 00:00:00\n",
            "14  14    Ricardo  40.0  2023-10-10 00:00:00\n",
            "15  15      Laura  26.0  2023-11-25 00:00:00\n",
            "16  16      Diego  33.0  2023-12-01 00:00:00\n",
            "17  17     Isabel  24.0  2024-01-01 00:00:00\n",
            "18  18   Fernando  38.0  2024-02-14 00:00:00\n",
            "19  19     Carmen  30.0  2024-03-01 00:00:00\n",
            "20  20     Javier  32.0  2024-04-04 00:00:00\n"
          ]
        }
      ]
    },
    {
      "cell_type": "code",
      "source": [
        "# 2. Leer y limpiar la nueva data a agregar\n",
        "df_nuevo_raw = pd.read_csv(\"Data Agregada.csv\")\n",
        "df_nuevo = limpiar_base(df_nuevo_raw)"
      ],
      "metadata": {
        "colab": {
          "base_uri": "https://localhost:8080/"
        },
        "id": "DSYOUmSBj2sw",
        "outputId": "bf00960d-f639-4670-daf1-e6b2fd0b6982"
      },
      "execution_count": null,
      "outputs": [
        {
          "output_type": "stream",
          "name": "stdout",
          "text": [
            "=== Base sucia ===\n",
            "     id    nombre  edad       fecha\n",
            "0   100   Ejemplo    99  2022-01-01\n",
            "1   101       Ana    25  2022-01-05\n",
            "2   102      Juan    30  2022-02-10\n",
            "3   103     María    27  2022-03-15\n",
            "4   104     Pedro    22  2022-04-20\n",
            "5   105     Sofía    29  2022-05-25\n",
            "6   106    Carlos    35  2022-06-30\n",
            "7   107     Elena    23  2022-07-05\n",
            "8   108   Ricardo    40  2022-08-10\n",
            "9   109     Laura    26  2022-09-15\n",
            "10  110     Diego    33  2022-10-01\n",
            "11  111    Isabel    24  2022-11-01\n",
            "12  112  Fernando    38  2022-11-25\n",
            "13  113    Carmen    30  2022-12-10\n",
            "14  114    Javier    32  2023-01-15\n",
            "15  115     Lucía    28  2023-02-20\n",
            "16  116    Andrés    31  2023-03-25\n",
            "17  117     Clara    26  2023-04-10\n",
            "18  118    Samuel    36  2023-05-05\n",
            "19  119   Natalia    34  2023-06-01\n",
            "\n",
            "=== Base limpia ===\n",
            "     id    nombre  edad                fecha\n",
            "0   100   Ejemplo    99  2022-01-01 00:00:00\n",
            "1   101       Ana    25  2022-01-05 00:00:00\n",
            "2   102      Juan    30  2022-02-10 00:00:00\n",
            "3   103     María    27  2022-03-15 00:00:00\n",
            "4   104     Pedro    22  2022-04-20 00:00:00\n",
            "5   105     Sofía    29  2022-05-25 00:00:00\n",
            "6   106    Carlos    35  2022-06-30 00:00:00\n",
            "7   107     Elena    23  2022-07-05 00:00:00\n",
            "8   108   Ricardo    40  2022-08-10 00:00:00\n",
            "9   109     Laura    26  2022-09-15 00:00:00\n",
            "10  110     Diego    33  2022-10-01 00:00:00\n",
            "11  111    Isabel    24  2022-11-01 00:00:00\n",
            "12  112  Fernando    38  2022-11-25 00:00:00\n",
            "13  113    Carmen    30  2022-12-10 00:00:00\n",
            "14  114    Javier    32  2023-01-15 00:00:00\n",
            "15  115     Lucía    28  2023-02-20 00:00:00\n",
            "16  116    Andrés    31  2023-03-25 00:00:00\n",
            "17  117     Clara    26  2023-04-10 00:00:00\n",
            "18  118    Samuel    36  2023-05-05 00:00:00\n",
            "19  119   Natalia    34  2023-06-01 00:00:00\n"
          ]
        }
      ]
    },
    {
      "cell_type": "code",
      "source": [
        "# 3. Agregar al histórico\n",
        "df_actualizado = agregar_al_historico(df_historico, df_nuevo)"
      ],
      "metadata": {
        "colab": {
          "base_uri": "https://localhost:8080/"
        },
        "id": "7z9Lp14Zj60k",
        "outputId": "7a0e71d9-f0e2-4a27-a3ec-8a79db4091d7"
      },
      "execution_count": null,
      "outputs": [
        {
          "output_type": "stream",
          "name": "stdout",
          "text": [
            "\n",
            "=== Histórico actualizado ===\n",
            "     id     nombre  edad                fecha\n",
            "0     1        Ana  25.0  2023-06-01 00:00:00\n",
            "1     2       Juan  30.0  2023-06-01 00:00:00\n",
            "3     4      Pedro  22.0  2023-06-01 00:00:00\n",
            "6     6  Alejandro  27.0  2023-06-01 00:00:00\n",
            "7     7        Ana  25.0  2023-06-01 00:00:00\n",
            "9     9       Luis  31.0  2023-06-01 00:00:00\n",
            "10   10      Marta  28.0  2023-06-01 00:00:00\n",
            "11   11      Sofía  29.0  2023-07-15 00:00:00\n",
            "12   12     Carlos  35.0  2023-08-20 00:00:00\n",
            "13   13      Elena  23.0  2023-09-05 00:00:00\n",
            "14   14    Ricardo  40.0  2023-10-10 00:00:00\n",
            "15   15      Laura  26.0  2023-11-25 00:00:00\n",
            "16   16      Diego  33.0  2023-12-01 00:00:00\n",
            "17   17     Isabel  24.0  2024-01-01 00:00:00\n",
            "18   18   Fernando  38.0  2024-02-14 00:00:00\n",
            "19   19     Carmen  30.0  2024-03-01 00:00:00\n",
            "20   20     Javier  32.0  2024-04-04 00:00:00\n",
            "0   100    Ejemplo  99.0  2022-01-01 00:00:00\n",
            "1   101        Ana  25.0  2022-01-05 00:00:00\n",
            "2   102       Juan  30.0  2022-02-10 00:00:00\n",
            "3   103      María  27.0  2022-03-15 00:00:00\n",
            "4   104      Pedro  22.0  2022-04-20 00:00:00\n",
            "5   105      Sofía  29.0  2022-05-25 00:00:00\n",
            "6   106     Carlos  35.0  2022-06-30 00:00:00\n",
            "7   107      Elena  23.0  2022-07-05 00:00:00\n",
            "8   108    Ricardo  40.0  2022-08-10 00:00:00\n",
            "9   109      Laura  26.0  2022-09-15 00:00:00\n",
            "10  110      Diego  33.0  2022-10-01 00:00:00\n",
            "11  111     Isabel  24.0  2022-11-01 00:00:00\n",
            "12  112   Fernando  38.0  2022-11-25 00:00:00\n",
            "13  113     Carmen  30.0  2022-12-10 00:00:00\n",
            "14  114     Javier  32.0  2023-01-15 00:00:00\n",
            "15  115      Lucía  28.0  2023-02-20 00:00:00\n",
            "16  116     Andrés  31.0  2023-03-25 00:00:00\n",
            "17  117      Clara  26.0  2023-04-10 00:00:00\n",
            "18  118     Samuel  36.0  2023-05-05 00:00:00\n",
            "19  119    Natalia  34.0  2023-06-01 00:00:00\n"
          ]
        }
      ]
    },
    {
      "cell_type": "code",
      "source": [
        "# 4. Guardar si quieres\n",
        "# guardar_csv(df_actualizado)"
      ],
      "metadata": {
        "id": "tdfj-9Ijj8r0"
      },
      "execution_count": null,
      "outputs": []
    },
    {
      "cell_type": "code",
      "source": [
        "# Renombrar el DataFrame final para mantener orden\n",
        "df_historico_consolidado = df_actualizado  # Esto solo renombra por claridad\n",
        "\n",
        "# Guardar la base consolidada en un CSV\n",
        "#df_historico_consolidado.to_csv(\"Historico_Consolidado.csv\", index=False)\n",
        "\n",
        "# Descargar el archivo desde Colab (opcional)\n",
        "#from google.colab import files\n",
        "#files.download(\"Historico_Consolidado.csv\")\n"
      ],
      "metadata": {
        "id": "BMbzXR7Mj-c-"
      },
      "execution_count": null,
      "outputs": []
    },
    {
      "cell_type": "code",
      "source": [
        "# 2. Leer y limpiar la nueva data a agregar\n",
        "df_nuevo_raw = pd.read_csv(\"Data Nueva 2.csv\")\n",
        "df_nuevo = limpiar_base(df_nuevo_raw)"
      ],
      "metadata": {
        "colab": {
          "base_uri": "https://localhost:8080/"
        },
        "id": "K1PjQgtok65b",
        "outputId": "4b8ed61c-e651-4094-e2cf-008a46bd8271"
      },
      "execution_count": null,
      "outputs": [
        {
          "output_type": "stream",
          "name": "stdout",
          "text": [
            "=== Base sucia ===\n",
            "   id  nombre  edad       fecha\n",
            "0  21     Ana    25  2024-05-01\n",
            "1  22  Carlos    36  2024-05-02\n",
            "2  23   Elena    24  2024-05-03\n",
            "3  24   Pedro    28  2024-05-04\n",
            "4  25    Juan    31  2024-05-05\n",
            "5  26   Marta    27  2024-05-06\n",
            "6  27    Luis    33  2024-05-07\n",
            "7  28   Laura    29  2024-05-08\n",
            "8  29  Isabel    26  2024-05-09\n",
            "9  30   Diego    34  2024-05-10\n",
            "\n",
            "=== Base limpia ===\n",
            "   id  nombre  edad                fecha\n",
            "0  21     Ana    25  2024-05-01 00:00:00\n",
            "1  22  Carlos    36  2024-05-02 00:00:00\n",
            "2  23   Elena    24  2024-05-03 00:00:00\n",
            "3  24   Pedro    28  2024-05-04 00:00:00\n",
            "4  25    Juan    31  2024-05-05 00:00:00\n",
            "5  26   Marta    27  2024-05-06 00:00:00\n",
            "6  27    Luis    33  2024-05-07 00:00:00\n",
            "7  28   Laura    29  2024-05-08 00:00:00\n",
            "8  29  Isabel    26  2024-05-09 00:00:00\n",
            "9  30   Diego    34  2024-05-10 00:00:00\n"
          ]
        }
      ]
    },
    {
      "cell_type": "code",
      "source": [
        "# 3. Agregar al histórico\n",
        "df_actualizado = agregar_al_historico(df_historico_consolidado, df_nuevo)"
      ],
      "metadata": {
        "colab": {
          "base_uri": "https://localhost:8080/"
        },
        "id": "XgR3aYkClAUa",
        "outputId": "c2850718-af5f-4582-fe66-4f3b69ff22af"
      },
      "execution_count": null,
      "outputs": [
        {
          "output_type": "stream",
          "name": "stdout",
          "text": [
            "\n",
            "=== Histórico actualizado ===\n",
            "     id     nombre  edad                fecha\n",
            "0     1        Ana  25.0  2023-06-01 00:00:00\n",
            "1     2       Juan  30.0  2023-06-01 00:00:00\n",
            "3     4      Pedro  22.0  2023-06-01 00:00:00\n",
            "6     6  Alejandro  27.0  2023-06-01 00:00:00\n",
            "7     7        Ana  25.0  2023-06-01 00:00:00\n",
            "9     9       Luis  31.0  2023-06-01 00:00:00\n",
            "10   10      Marta  28.0  2023-06-01 00:00:00\n",
            "11   11      Sofía  29.0  2023-07-15 00:00:00\n",
            "12   12     Carlos  35.0  2023-08-20 00:00:00\n",
            "13   13      Elena  23.0  2023-09-05 00:00:00\n",
            "14   14    Ricardo  40.0  2023-10-10 00:00:00\n",
            "15   15      Laura  26.0  2023-11-25 00:00:00\n",
            "16   16      Diego  33.0  2023-12-01 00:00:00\n",
            "17   17     Isabel  24.0  2024-01-01 00:00:00\n",
            "18   18   Fernando  38.0  2024-02-14 00:00:00\n",
            "19   19     Carmen  30.0  2024-03-01 00:00:00\n",
            "20   20     Javier  32.0  2024-04-04 00:00:00\n",
            "0   100    Ejemplo  99.0  2022-01-01 00:00:00\n",
            "1   101        Ana  25.0  2022-01-05 00:00:00\n",
            "2   102       Juan  30.0  2022-02-10 00:00:00\n",
            "3   103      María  27.0  2022-03-15 00:00:00\n",
            "4   104      Pedro  22.0  2022-04-20 00:00:00\n",
            "5   105      Sofía  29.0  2022-05-25 00:00:00\n",
            "6   106     Carlos  35.0  2022-06-30 00:00:00\n",
            "7   107      Elena  23.0  2022-07-05 00:00:00\n",
            "8   108    Ricardo  40.0  2022-08-10 00:00:00\n",
            "9   109      Laura  26.0  2022-09-15 00:00:00\n",
            "10  110      Diego  33.0  2022-10-01 00:00:00\n",
            "11  111     Isabel  24.0  2022-11-01 00:00:00\n",
            "12  112   Fernando  38.0  2022-11-25 00:00:00\n",
            "13  113     Carmen  30.0  2022-12-10 00:00:00\n",
            "14  114     Javier  32.0  2023-01-15 00:00:00\n",
            "15  115      Lucía  28.0  2023-02-20 00:00:00\n",
            "16  116     Andrés  31.0  2023-03-25 00:00:00\n",
            "17  117      Clara  26.0  2023-04-10 00:00:00\n",
            "18  118     Samuel  36.0  2023-05-05 00:00:00\n",
            "19  119    Natalia  34.0  2023-06-01 00:00:00\n",
            "0    21        Ana  25.0  2024-05-01 00:00:00\n",
            "1    22     Carlos  36.0  2024-05-02 00:00:00\n",
            "2    23      Elena  24.0  2024-05-03 00:00:00\n",
            "3    24      Pedro  28.0  2024-05-04 00:00:00\n",
            "4    25       Juan  31.0  2024-05-05 00:00:00\n",
            "5    26      Marta  27.0  2024-05-06 00:00:00\n",
            "6    27       Luis  33.0  2024-05-07 00:00:00\n",
            "7    28      Laura  29.0  2024-05-08 00:00:00\n",
            "8    29     Isabel  26.0  2024-05-09 00:00:00\n",
            "9    30      Diego  34.0  2024-05-10 00:00:00\n"
          ]
        }
      ]
    },
    {
      "cell_type": "code",
      "source": [],
      "metadata": {
        "id": "HMnKN_EwlH80"
      },
      "execution_count": null,
      "outputs": []
    }
  ]
}
